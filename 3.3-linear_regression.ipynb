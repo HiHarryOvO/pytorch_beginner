{
 "cells": [
  {
   "cell_type": "code",
   "execution_count": 1,
   "metadata": {},
   "outputs": [],
   "source": [
    "import torch\n",
    "import torch.utils.data as Data\n",
    "import torch.nn as nn\n",
    "import torch.optim as optim\n",
    "\n",
    "from collections import OrderedDict"
   ]
  },
  {
   "cell_type": "markdown",
   "metadata": {},
   "source": [
    "和3.2一样，再次生成数据"
   ]
  },
  {
   "cell_type": "code",
   "execution_count": 2,
   "metadata": {},
   "outputs": [],
   "source": [
    "num_inputs = 2\n",
    "num_examples = 1000\n",
    "\n",
    "true_w = [2, -3.4]\n",
    "true_b = 4.2\n",
    "\n",
    "features = torch.randn(num_examples, num_inputs, dtype=torch.float32)\n",
    "\n",
    "labels = true_w[0] * features[:, 0] + true_w[1] * features[:, 1] + true_b\n",
    "labels += torch.normal(0, 0.01, size=labels.size(), dtype=torch.float32)"
   ]
  },
  {
   "cell_type": "markdown",
   "metadata": {},
   "source": [
    "读取数据，使用torch.utils.data，这里引入为Data\n",
    "\n",
    "DataLoader是Pytorch数据集操作的核心，主要作用有（来自官方文档）：\n",
    "\n",
    "- map-style and iterable-style datasets,\n",
    "\n",
    "- customizing data loading order,\n",
    "\n",
    "- automatic batching,\n",
    "\n",
    "- single- and multi-process data loading,\n",
    "\n",
    "- automatic memory pinning.\n",
    "\n",
    "其构造函数如下：\n",
    "\n",
    "DataLoader(dataset, batch_size=1, shuffle=False, sampler=None,\n",
    "           batch_sampler=None, num_workers=0, collate_fn=None,\n",
    "           pin_memory=False, drop_last=False, timeout=0,\n",
    "           worker_init_fn=None)\n",
    "           \n",
    "而TensorDataset的含义也非常直白，即由tensor组成的数据集，"
   ]
  },
  {
   "cell_type": "code",
   "execution_count": 3,
   "metadata": {},
   "outputs": [],
   "source": [
    "batch_size = 10\n",
    "\n",
    "# 特征和标签组合生成数据集\n",
    "dataset = Data.TensorDataset(features, labels)\n",
    "# 随机读取小批量数据\n",
    "data_iter = Data.DataLoader(dataset, batch_size, shuffle=True)"
   ]
  },
  {
   "cell_type": "markdown",
   "metadata": {},
   "source": [
    "与上一节构造的generator相同，DataLoader的本质也是一个Python iterable可迭代对象"
   ]
  },
  {
   "cell_type": "code",
   "execution_count": 4,
   "metadata": {},
   "outputs": [
    {
     "name": "stdout",
     "output_type": "stream",
     "text": [
      "tensor([[ 0.9247, -0.5052],\n",
      "        [-0.1997, -1.1511],\n",
      "        [-1.0551,  0.3544],\n",
      "        [-2.1021, -0.5460],\n",
      "        [-0.3002, -0.2954],\n",
      "        [ 1.0257,  1.1582],\n",
      "        [ 0.3600,  0.4307],\n",
      "        [-0.7719, -0.0346],\n",
      "        [ 1.4988,  1.0616],\n",
      "        [-1.1047,  0.1846]]) tensor([7.7641, 7.7097, 0.8719, 1.8304, 4.6195, 2.3026, 3.4691, 2.7743, 3.5920,\n",
      "        1.3557])\n"
     ]
    }
   ],
   "source": [
    "for X, y in data_iter:\n",
    "    print(X, y)\n",
    "    break"
   ]
  },
  {
   "cell_type": "markdown",
   "metadata": {},
   "source": [
    "定义模型  \n",
    "\n",
    "线性回归也可以表示为单层的神经网络，因此，以下将采用多种方法构建我们的模型:"
   ]
  },
  {
   "cell_type": "markdown",
   "metadata": {},
   "source": [
    "- 继承nn.Module的方法\n",
    "\n",
    "nn.Module是torch.nn的核心，一个抽象类，既可以表示神经网络中的某个层（layer），也可以表示一个包含很多层的神经网络。子类应该定义一些层以及返回输出的前向传播（forward）方法。\n",
    "\n",
    "nn.Linear构造方法：  \n",
    "CLASS torch.nn.Linear(in_features: int, out_features: int, bias: bool = True)"
   ]
  },
  {
   "cell_type": "code",
   "execution_count": 5,
   "metadata": {},
   "outputs": [],
   "source": [
    "class LinearNet(nn.Module):\n",
    "    def __init__(self, n_feature):\n",
    "        super(LinearNet, self).__init__()  # 继承超类\n",
    "        self.linear = nn.Linear(n_feature, 1)  # 加入线性层\n",
    "        \n",
    "    # 前向传播函数，以x为参数编写\n",
    "    # 问题：如果有很多层的话，这里的前向传播函数是不是就对应有多行计算呢？我觉得是的\n",
    "    def forward(self, x):\n",
    "        return self.linear(x)"
   ]
  },
  {
   "cell_type": "code",
   "execution_count": 6,
   "metadata": {},
   "outputs": [
    {
     "name": "stdout",
     "output_type": "stream",
     "text": [
      "LinearNet(\n",
      "  (linear): Linear(in_features=2, out_features=1, bias=True)\n",
      ")\n"
     ]
    }
   ],
   "source": [
    "net = LinearNet(num_inputs)\n",
    "print(net)"
   ]
  },
  {
   "cell_type": "markdown",
   "metadata": {},
   "source": [
    "- 使用nn.Sequential搭建网络的方法（常用）\n",
    "\n",
    "Sequential是一个有序的容器，网络层将按照在传入Sequential的顺序依次被添加到计算图中。"
   ]
  },
  {
   "cell_type": "code",
   "execution_count": 7,
   "metadata": {},
   "outputs": [],
   "source": [
    "# 写法一\n",
    "net = nn.Sequential(\n",
    "    nn.Linear(num_inputs, 1)\n",
    "    # 此处还可以传入其他层\n",
    "    )\n",
    "\n",
    "# 写法二\n",
    "net = nn.Sequential()  # 各层后续使用add_module添加\n",
    "net.add_module('linear', nn.Linear(num_inputs, 1))  # linear是该层的名字，add_module既可以添加层，也可以根据名字修改层\n",
    "# net.add_module ......\n",
    "\n",
    "# 写法三（支持使用OrderedDict构建层） OrderedDict: 键值对按插入顺序排列\n",
    "net = nn.Sequential(OrderedDict([\n",
    "    ('linear', nn.Linear(num_inputs, 1))\n",
    "    # ...\n",
    "]))"
   ]
  },
  {
   "cell_type": "code",
   "execution_count": 8,
   "metadata": {},
   "outputs": [
    {
     "name": "stdout",
     "output_type": "stream",
     "text": [
      "Sequential(\n",
      "  (linear): Linear(in_features=2, out_features=1, bias=True)\n",
      ")\n",
      "Linear(in_features=2, out_features=1, bias=True)\n"
     ]
    }
   ],
   "source": [
    "print(net)\n",
    "print(net[0]) # 通过索引可以访问各层"
   ]
  },
  {
   "cell_type": "markdown",
   "metadata": {},
   "source": [
    "使用net.parameters查看模型所有的可学习参数，此函数将返回一个生成器。"
   ]
  },
  {
   "cell_type": "code",
   "execution_count": 9,
   "metadata": {},
   "outputs": [
    {
     "name": "stdout",
     "output_type": "stream",
     "text": [
      "Parameter containing:\n",
      "tensor([[ 0.5360, -0.5033]], requires_grad=True)\n",
      "Parameter containing:\n",
      "tensor([0.0879], requires_grad=True)\n"
     ]
    }
   ],
   "source": [
    "for param in net.parameters():\n",
    "    print(param)"
   ]
  },
  {
   "cell_type": "markdown",
   "metadata": {},
   "source": [
    "PyTorch在init模块（torch.nn.init）中提供了多种参数初始化方法。"
   ]
  },
  {
   "cell_type": "code",
   "execution_count": 10,
   "metadata": {},
   "outputs": [
    {
     "data": {
      "text/plain": [
       "Parameter containing:\n",
       "tensor([0.], requires_grad=True)"
      ]
     },
     "execution_count": 10,
     "metadata": {},
     "output_type": "execute_result"
    }
   ],
   "source": [
    "nn.init.normal_(net[0].weight, mean=0, std=0.01)  # 可见weight和bias是Linear()层的成员变量，不同层对成员变量命名不尽相同\n",
    "nn.init.constant_(net[0].bias, val=0)"
   ]
  },
  {
   "cell_type": "markdown",
   "metadata": {},
   "source": [
    "定义损失函数"
   ]
  },
  {
   "cell_type": "code",
   "execution_count": 11,
   "metadata": {},
   "outputs": [],
   "source": [
    "loss = nn.MSELoss()"
   ]
  },
  {
   "cell_type": "markdown",
   "metadata": {},
   "source": [
    "定义优化算法"
   ]
  },
  {
   "cell_type": "code",
   "execution_count": 12,
   "metadata": {},
   "outputs": [
    {
     "name": "stdout",
     "output_type": "stream",
     "text": [
      "SGD (\n",
      "Parameter Group 0\n",
      "    dampening: 0\n",
      "    lr: 0.03\n",
      "    momentum: 0\n",
      "    nesterov: False\n",
      "    weight_decay: 0\n",
      ")\n"
     ]
    }
   ],
   "source": [
    "optimizer = optim.SGD(net.parameters(), lr=0.03)  # 几个参数\n",
    "print(optimizer)"
   ]
  },
  {
   "cell_type": "markdown",
   "metadata": {},
   "source": [
    "训练模型"
   ]
  },
  {
   "cell_type": "code",
   "execution_count": 13,
   "metadata": {},
   "outputs": [
    {
     "name": "stdout",
     "output_type": "stream",
     "text": [
      "epoch 1, loss: 0.000344\n",
      "epoch 2, loss: 0.000074\n",
      "epoch 3, loss: 0.000075\n"
     ]
    }
   ],
   "source": [
    "num_epochs = 3\n",
    "for epoch in range(1, num_epochs + 1):\n",
    "    for X, y in data_iter:\n",
    "        output = net(X)\n",
    "        l = loss(output, y.view(-1, 1))  # -1表示此处值通过另一维度推算出来\n",
    "        optimizer.zero_grad()  # 这一步也可以置于step后，对于第一个epoch并无影响\n",
    "        l.backward()  # 对模型参数求梯度\n",
    "        optimizer.step()  # 优化器工作：更新模型参数值\n",
    "    print(\"epoch %d, loss: %f\" % (epoch, l.item()))"
   ]
  },
  {
   "cell_type": "markdown",
   "metadata": {},
   "source": [
    "查看最终训练结果"
   ]
  },
  {
   "cell_type": "code",
   "execution_count": 14,
   "metadata": {},
   "outputs": [
    {
     "name": "stdout",
     "output_type": "stream",
     "text": [
      "[2, -3.4] Parameter containing:\n",
      "tensor([[ 2.0001, -3.3994]], requires_grad=True)\n",
      "4.2 Parameter containing:\n",
      "tensor([4.1989], requires_grad=True)\n"
     ]
    }
   ],
   "source": [
    "print(true_w, net[0].weight)\n",
    "print(true_b, net[0].bias)"
   ]
  },
  {
   "cell_type": "code",
   "execution_count": null,
   "metadata": {},
   "outputs": [],
   "source": []
  }
 ],
 "metadata": {
  "kernelspec": {
   "display_name": "Python 3",
   "language": "python",
   "name": "python3"
  },
  "language_info": {
   "codemirror_mode": {
    "name": "ipython",
    "version": 3
   },
   "file_extension": ".py",
   "mimetype": "text/x-python",
   "name": "python",
   "nbconvert_exporter": "python",
   "pygments_lexer": "ipython3",
   "version": "3.6.5"
  }
 },
 "nbformat": 4,
 "nbformat_minor": 2
}
