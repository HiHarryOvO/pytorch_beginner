{
 "cells": [
  {
   "cell_type": "markdown",
   "metadata": {},
   "source": [
    "AlexNet主要贡献：\n",
    "\n",
    "- 使用ReLu取代sigmoid，计算上更为简便\n",
    "- 网络分布在多个GPU上，并且GPU之间只在少数时候沟通，从而提高效率（目前的GPU算力已经提升很多，分开构造不必要）\n",
    "- Data Augmentation: 引入了大量的图像增广，如重采样、翻转、裁剪和颜色变化，从而进一步扩大数据集来缓解过拟合\n",
    "- 使用Dropout，减少神经元之间的依赖性，从而减少过拟合"
   ]
  },
  {
   "cell_type": "code",
   "execution_count": 3,
   "metadata": {},
   "outputs": [],
   "source": [
    "import time\n",
    "import torch\n",
    "from torch import nn, optim\n",
    "import torchvision\n",
    "\n",
    "import d2lzh_pytorch as d2l\n",
    "\n",
    "# 设置GPU\n",
    "device = torch.device('cuda' if torch.cuda.is_available() else 'cpu')"
   ]
  },
  {
   "cell_type": "markdown",
   "metadata": {},
   "source": [
    "构造网络结构"
   ]
  },
  {
   "cell_type": "code",
   "execution_count": null,
   "metadata": {},
   "outputs": [],
   "source": [
    "class AlexNet(nn.Module):\n",
    "    def __init__(self):\n",
    "        super(AlexNet, self).__init__()\n",
    "        self.conv = nn.Sequential(\n",
    "            # 我们改用fashion-mnist，因此进入通道数为1\n",
    "            nn.Conv2d(1, 96, 11, 4),  # in_channels, out_channels, kernel_size, stride\n",
    "            nn.ReLU(),\n",
    "            nn.MaxPool2d(3, 2),  # kernel_size, stride  (Overlapping Pooling)\n",
    "            nn.Conv2d(96, 256, 5),\n",
    "            nn.ReLU(),\n",
    "            nn.Conv2d()\n",
    "            nn.MaxPool2d(3, 2),\n",
    "            \n",
    "            \n",
    "        )\n",
    "    def forward(self, img):    "
   ]
  }
 ],
 "metadata": {
  "kernelspec": {
   "display_name": "Python 3",
   "language": "python",
   "name": "python3"
  },
  "language_info": {
   "codemirror_mode": {
    "name": "ipython",
    "version": 3
   },
   "file_extension": ".py",
   "mimetype": "text/x-python",
   "name": "python",
   "nbconvert_exporter": "python",
   "pygments_lexer": "ipython3",
   "version": "3.6.5"
  }
 },
 "nbformat": 4,
 "nbformat_minor": 2
}
